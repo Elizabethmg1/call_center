{
 "cells": [
  {
   "cell_type": "markdown",
   "id": "f32f7e7e",
   "metadata": {},
   "source": [
    "deserializar JSON"
   ]
  },
  {
   "cell_type": "code",
   "execution_count": null,
   "id": "e6d97711",
   "metadata": {},
   "outputs": [],
   "source": [
    "# import pickle, zlib, base64\n",
    "\n",
    "# def deserializar_session_state(data_b64):\n",
    "#     data_comprimida = base64.b64decode(data_b64)\n",
    "#     data_pickle = zlib.decompress(data_comprimida)\n",
    "#     return pickle.loads(data_pickle)\n",
    "\n",
    "# id_feedback = 377\n",
    "# # Inicializar conexión\n",
    "# db_connection, db_cursor = db_init()\n",
    "\n",
    "# db_cursor.execute(\"SELECT Session_state FROM mia_chat_feedback_costos WHERE id = %s\", (id_feedback,))\n",
    "# session_serializado = db_cursor.fetchone()[0]\n",
    "# session = deserializar_session_state(session_serializado)\n"
   ]
  },
  {
   "cell_type": "code",
   "execution_count": null,
   "id": "67d97cf2",
   "metadata": {},
   "outputs": [],
   "source": [
    "from dotenv import load_dotenv\n",
    "\n",
    "# from livekit import agents\n",
    "# from livekit.agents import AgentSession, Agent, RoomInputOptions,function_tool, RunContext\n",
    "# from livekit.plugins import (\n",
    "#     openai,\n",
    "#     noise_cancellation,\n",
    "# )\n",
    "# from utils import registrar_turno,sys_prompt,consultar_turnos,sys_ingles\n",
    "from google.oauth2 import service_account\n",
    "\n",
    "from datetime import datetime\n",
    "from typing import TypedDict\n",
    "from googleapiclient.discovery import build"
   ]
  },
  {
   "cell_type": "code",
   "execution_count": 15,
   "id": "0737dc75",
   "metadata": {},
   "outputs": [
    {
     "name": "stdout",
     "output_type": "stream",
     "text": [
      "[CONSULTA] Rango recibido: {'fecha_inicio': '2025-06-24T16:00:00', 'fecha_fin': '2025-06-24T16:30:00'}\n",
      "{'fecha_inicio': '2025-06-24T16:00:00Z', 'fecha_fin': '2025-06-24T16:30:00Z'}\n",
      "[]\n",
      "[RESPUESTA] Turnos encontrados: 0\n"
     ]
    },
    {
     "data": {
      "text/plain": [
       "[]"
      ]
     },
     "execution_count": 15,
     "metadata": {},
     "output_type": "execute_result"
    }
   ],
   "source": [
    "json_consulta = {\n",
    "    \"fecha_inicio\": \"2025-06-24T16:00:00\",\n",
    "    \"fecha_fin\":    \"2025-06-24T16:30:00\"\n",
    "}\n",
    "consultar_turnos(service, json_consulta)"
   ]
  },
  {
   "cell_type": "code",
   "execution_count": 1,
   "id": "0b2ad61e",
   "metadata": {},
   "outputs": [],
   "source": [
    "from googleapiclient.discovery import build\n",
    "from google.oauth2 import service_account\n",
    "\n",
    "SCOPES = [\"https://www.googleapis.com/auth/calendar\"]\n",
    "SERVICE_ACCOUNT_FILE = \"jsoncred.json\"\n",
    "\n",
    "creds = service_account.Credentials.from_service_account_file(\n",
    "    SERVICE_ACCOUNT_FILE, scopes=SCOPES)\n",
    "\n",
    "service = build(\"calendar\", \"v3\", credentials=creds)\n",
    "\n",
    "events = service.events().list(\n",
    "    calendarId=\"dante.python.sql@gmail.com\",\n",
    "    timeMin=\"2025-06-24T16:00:00Z\",\n",
    "    timeMax=\"2025-06-24T16:30:00Z\",\n",
    "    singleEvents=True,\n",
    "    orderBy=\"startTime\"\n",
    ").execute()"
   ]
  },
  {
   "cell_type": "code",
   "execution_count": 2,
   "id": "5766b37d",
   "metadata": {},
   "outputs": [
    {
     "data": {
      "text/plain": [
       "{'kind': 'calendar#events',\n",
       " 'etag': '\"p337q5umopi0os0o\"',\n",
       " 'summary': 'dante.python.sql@gmail.com',\n",
       " 'description': '',\n",
       " 'updated': '2025-06-21T03:44:18.805Z',\n",
       " 'timeZone': 'America/Argentina/Buenos_Aires',\n",
       " 'accessRole': 'owner',\n",
       " 'defaultReminders': [],\n",
       " 'items': []}"
      ]
     },
     "execution_count": 2,
     "metadata": {},
     "output_type": "execute_result"
    }
   ],
   "source": [
    "events"
   ]
  },
  {
   "cell_type": "code",
   "execution_count": null,
   "id": "d190154a",
   "metadata": {},
   "outputs": [],
   "source": [
    "opa={'fecha_inicio': '2025-06-24T16:00:00', 'fecha_fin': '2025-06-24T16:30:00'}\n",
    "consultar_turnos(service, opa)"
   ]
  },
  {
   "cell_type": "code",
   "execution_count": null,
   "id": "74fbb0c7",
   "metadata": {},
   "outputs": [],
   "source": [
    "db=ki\n",
    "def guardar_json_en_db(json_chart: dict):\n",
    "    json_str = json.dumps(json_chart)\n",
    "    db.execute(\n",
    "        \"INSERT INTO chart_results (json_data) VALUES (%s);\",\n",
    "        (json_str,)\n",
    "    )"
   ]
  }
 ],
 "metadata": {
  "kernelspec": {
   "display_name": "venv",
   "language": "python",
   "name": "python3"
  },
  "language_info": {
   "codemirror_mode": {
    "name": "ipython",
    "version": 3
   },
   "file_extension": ".py",
   "mimetype": "text/x-python",
   "name": "python",
   "nbconvert_exporter": "python",
   "pygments_lexer": "ipython3",
   "version": "3.11.9"
  }
 },
 "nbformat": 4,
 "nbformat_minor": 5
}
